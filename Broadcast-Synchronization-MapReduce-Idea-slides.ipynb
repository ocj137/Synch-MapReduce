{
 "cells": [
  {
   "cell_type": "markdown",
   "metadata": {
    "collapsed": false,
    "slideshow": {
     "slide_type": "slide"
    }
   },
   "source": [
    "<h2> Broadcast Synchronization of MapReduce </h2>"
   ]
  },
  {
   "cell_type": "markdown",
   "metadata": {
    "slideshow": {
     "slide_type": "slide"
    }
   },
   "source": [
    "<h2> First, I discuss MapReduce shortcomings addresssed in this work. </h2>"
   ]
  },
  {
   "cell_type": "markdown",
   "metadata": {
    "collapsed": false
   },
   "source": [
    "<h3> 1. How MapReduce does its work </h3>\n",
    "\n",
    "<h3> 2. Issues w time lost due to communication channel blocking.</h3>\n",
    "\n",
    "<h3>Mention Prof. Yoav Freund's talk at Simons Institute in Berkeley: </h3>\n",
    "https://simons.berkeley.edu/talks/yoav-freund-2017-5-1\n",
    "\n",
    "<h3> 3. Idea from my patent work with Jie Zhu at Sun Microsystems </h3>\n",
    "\n",
    "<h3> 4. Putting together patent idea with Prof. Freund's observation to solve issues in communication for MapReduce </h3>"
   ]
  },
  {
   "cell_type": "markdown",
   "metadata": {
    "slideshow": {
     "slide_type": "slide"
    }
   },
   "source": [
    "<h3> 1. How MapReduce does up its work </h3>\n",
    "<h4> MapReduce Master takes a task and distributes(Maps) it the workers </h4>\n",
    " \n",
    "<h4> These workers start working on their sub-tasks as soon as they receive the work </h4>\n",
    "\n",
    "<h4> Once done, the workers send their results back to Master </h4> \n",
    "\n",
    "<h4> Master assmebles result, possibly doing some Sort, then Reducing the results for final output.  </h4>\n",
    "See Prof. Freund's video above, especially between 4:19 and 6:44. "
   ]
  },
  {
   "cell_type": "markdown",
   "metadata": {
    "slideshow": {
     "slide_type": "slide"
    }
   },
   "source": [
    "<h3> 2. Time lost due to communication channel blocking, accourding to Prof. Yoav Freund </h3> \n",
    "<h4> The issue of Laggards </h4> \n",
    "Not all workers start at the same time. Results come in at staggered times, resulting in delays.\n",
    "<h4> The issue of bandwidth </h4> \n",
    "Point to Point communication can block access to the communication channel."
   ]
  },
  {
   "cell_type": "markdown",
   "metadata": {
    "collapsed": false,
    "slideshow": {
     "slide_type": "slide"
    }
   },
   "source": [
    "<h3> 3. Describe idea from my patent work with Jie Zhu at Sun Microsystems </h3>\n",
    "http://patft.uspto.gov/netacgi/nph-Parser?Sect1=PTO1&Sect2=HITOFF&d=PALL&p=1&u=%2Fnetahtml%2FPTO%2Fsrchnum.htm&r=1&f=G&l=50&s1=7007086.PN.&OS=PN/7007086&RS=PN/7007086\n",
    "<h4> This work describes how to measure network performance for a master and many clients, all connected via a switch. </h4>\n",
    "<h4> The problem we are trying to solve here is the inconsistency in measurements when we allow the clients to start sending traffic immediately after they are connected to the master.</h4> \n",
    "<h4> We solve this problem in the following way - this is an informal descrption: </h4>\n",
    " a. The master sets up to receive\n",
    " <br>\n",
    " b. The clients set up to transmit, blocking on a broadcast signal.\n",
    " <br>\n",
    " c. Once all clients are good to go, broadcast signal from master is sent to all clients\n",
    " <br>\n",
    " d. All clients start transmitting at same time."
   ]
  },
  {
   "cell_type": "markdown",
   "metadata": {
    "collapsed": true,
    "slideshow": {
     "slide_type": "slide"
    }
   },
   "source": [
    "<h2> 4. Putting together synchronization from patent work with MapReduce bottleneck issues. </h2>\n",
    "Using now this patent idea mentions above, we can put it together with the issues for MapReduce as follows: \n",
    "<br>\n",
    "a. The master sets up to receive\n",
    " <br>\n",
    " b. The works set up to do their tasks, blocking on a broadcast signal.\n",
    " <br>\n",
    " c. Once all workers are good to go, broadcast signal from master is sent to all workers\n",
    " <br>\n",
    " d. All workers start their tasks at same time.\n",
    " <br>\n",
    " e. Once done, workers will send their results to master. Since they will be done about the same time, not much waiting by master for all the results. "
   ]
  },
  {
   "cell_type": "code",
   "execution_count": null,
   "metadata": {
    "collapsed": true
   },
   "outputs": [],
   "source": []
  }
 ],
 "metadata": {
  "anaconda-cloud": {},
  "celltoolbar": "Slideshow",
  "kernelspec": {
   "display_name": "Python [dsi]",
   "language": "python",
   "name": "Python [dsi]"
  },
  "language_info": {
   "codemirror_mode": {
    "name": "ipython",
    "version": 2
   },
   "file_extension": ".py",
   "mimetype": "text/x-python",
   "name": "python",
   "nbconvert_exporter": "python",
   "pygments_lexer": "ipython2",
   "version": "2.7.12"
  }
 },
 "nbformat": 4,
 "nbformat_minor": 0
}
